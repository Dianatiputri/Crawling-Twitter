{
 "cells": [
  {
   "cell_type": "code",
   "execution_count": 11,
   "metadata": {},
   "outputs": [],
   "source": [
    "import tweepy\n",
    "import csv\n",
    "from tweepy import OAuthHandler\n",
    "import string"
   ]
  },
  {
   "cell_type": "code",
   "execution_count": 12,
   "metadata": {},
   "outputs": [],
   "source": [
    "consumer_key = 'CpcVeQXJG48niINXMcE0KOJrp'\n",
    "consumer_secret = 'gseHZ2JNix6cUsHJHg9n2FGSDvmuVBMM4nxHemgD5gU9SfZg5C'\n",
    "access_token = '1069889033981972480-VsXFweSfWwYORIi7otWVMn5pXXQj5p'\n",
    "access_secret = 'ubNAvM76iSiHQxWDPkg2nBtvFxfjcYW3cRqjrWe0wr9ri'"
   ]
  },
  {
   "cell_type": "code",
   "execution_count": 13,
   "metadata": {},
   "outputs": [],
   "source": [
    "auth = tweepy.OAuthHandler(consumer_key, consumer_secret)\n",
    "auth.set_access_token(access_token, access_secret)\n",
    "api = tweepy.API(auth,wait_on_rate_limit=True)"
   ]
  },
  {
   "cell_type": "code",
   "execution_count": 14,
   "metadata": {},
   "outputs": [],
   "source": [
    "csvFile = open('coba2.csv', 'a', encoding='utf-8')\n",
    "csvWriter = csv.writer(csvFile)"
   ]
  },
  {
   "cell_type": "code",
   "execution_count": 15,
   "metadata": {},
   "outputs": [
    {
     "name": "stdout",
     "output_type": "stream",
     "text": [
      "2020-11-24 15:53:08 pyothetic Eh aku baru sadar j pake baju dpr yaa?\n",
      "2020-11-24 15:53:03 DarwisSteven RT @zarazettirazr: “Saya bilang, siapa yang anda telepon mau disambungkan pada saya?\" lanjut Napoleon., “Terdakwa mengatakan 'Bang Aziz', A…\n",
      "2020-11-24 15:53:02 KavindraOemar RT @zarazettirazr: “Saya bilang, siapa yang anda telepon mau disambungkan pada saya?\" lanjut Napoleon., “Terdakwa mengatakan 'Bang Aziz', A…\n",
      "2020-11-24 15:52:35 risollbeku @eatspaghetti_ @tanyainrl jadi dpr\n",
      "2020-11-24 15:52:25 land0f @zoel_dmq @ghanieierfan Roadmap US ( gubernur-senator-presiden)\n",
      "Indo (batu bara-gas alam-minyak bumi-dprd/walikota-… https://t.co/Fbs75dBGPE\n",
      "2020-11-24 15:52:16 SantaPradana RT @zarazettirazr: “Saya bilang, siapa yang anda telepon mau disambungkan pada saya?\" lanjut Napoleon., “Terdakwa mengatakan 'Bang Aziz', A…\n",
      "2020-11-24 15:52:04 jhsxtape_ Dpr live ft. Crush https://t.co/Fss8ZQntuo\n",
      "2020-11-24 15:52:02 eldamkamone @MUSIKMENFESS itu semua dpr?\n",
      "2020-11-24 15:51:56 Asikajaa1 @gegetas_ @faizsadad_ Di dpr gan\n",
      "2020-11-24 15:51:50 taichanasin ketua dpr. jujur pengen ga boong HAHAHAHA. padahal gue kontra sama dpr yang sekarang https://t.co/bHEnm3nbP9\n"
     ]
    }
   ],
   "source": [
    "for tweet in tweepy.Cursor(api.search,q=\"DPR\",\n",
    "                           lang=\"id\").items(10):\n",
    "    print (tweet.created_at,tweet.author.screen_name,tweet.text)\n",
    "    csvWriter.writerow([tweet.created_at,tweet.author.screen_name, tweet.text])"
   ]
  },
  {
   "cell_type": "code",
   "execution_count": null,
   "metadata": {},
   "outputs": [],
   "source": []
  }
 ],
 "metadata": {
  "kernelspec": {
   "display_name": "Python 3",
   "language": "python",
   "name": "python3"
  },
  "language_info": {
   "codemirror_mode": {
    "name": "ipython",
    "version": 3
   },
   "file_extension": ".py",
   "mimetype": "text/x-python",
   "name": "python",
   "nbconvert_exporter": "python",
   "pygments_lexer": "ipython3",
   "version": "3.5.4"
  }
 },
 "nbformat": 4,
 "nbformat_minor": 4
}
